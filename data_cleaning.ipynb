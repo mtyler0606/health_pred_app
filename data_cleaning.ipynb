{
 "cells": [
  {
   "cell_type": "markdown",
   "id": "2b638f9f-1b8c-497c-af59-629dceb8c9ca",
   "metadata": {},
   "source": [
    "# BRFFS"
   ]
  },
  {
   "cell_type": "markdown",
   "id": "95d230ac-19d9-4cbb-91b5-3617653bf0ce",
   "metadata": {},
   "source": [
    "### Import Libraries"
   ]
  },
  {
   "cell_type": "code",
   "execution_count": 210,
   "id": "46f863fd-5dcf-4f66-9820-fa1f0e930d6a",
   "metadata": {},
   "outputs": [],
   "source": [
    "import pandas as pd\n",
    "import numpy as np\n",
    "import matplotlib as plt\n",
    "import plotly.express as px\n",
    "import random\n",
    "\n",
    "random.seed(1)"
   ]
  },
  {
   "cell_type": "markdown",
   "id": "34b7a1e8-61c6-4def-9b76-b2dcc43a1915",
   "metadata": {},
   "source": [
    "### Load Data"
   ]
  },
  {
   "cell_type": "code",
   "execution_count": 213,
   "id": "feb2c83b-db9b-43dc-a1d8-99f1d11f8671",
   "metadata": {},
   "outputs": [],
   "source": [
    "BRFFS = pd.read_csv(\"CSV_files/2015.csv\")"
   ]
  },
  {
   "cell_type": "markdown",
   "id": "808e9803-212c-4444-9597-0862c1eed620",
   "metadata": {},
   "source": [
    "Count rows and columns of raw data"
   ]
  },
  {
   "cell_type": "markdown",
   "id": "e44e6fe3-af87-476f-a2cf-23237f69cc7f",
   "metadata": {},
   "source": [
    "### Initial Data\n",
    "The BRFFS 2015 data contains 330 Columns and 441,456 rows"
   ]
  },
  {
   "cell_type": "code",
   "execution_count": 216,
   "id": "5fcda80a-586b-403a-bb80-5d91274a27ea",
   "metadata": {},
   "outputs": [
    {
     "data": {
      "text/plain": [
       "(441456, 330)"
      ]
     },
     "execution_count": 216,
     "metadata": {},
     "output_type": "execute_result"
    }
   ],
   "source": [
    "BRFFS.shape"
   ]
  },
  {
   "cell_type": "markdown",
   "id": "653eac97-0fb3-4b8b-b464-aa2e01fe75fd",
   "metadata": {},
   "source": [
    "### Select a subset of the columns"
   ]
  },
  {
   "cell_type": "code",
   "execution_count": 590,
   "id": "305a8849-c29e-4a78-94e1-4c95d21cd75b",
   "metadata": {},
   "outputs": [],
   "source": [
    "df = BRFFS[[\n",
    "'SEX',\n",
    "'EDUCA',\n",
    "'INCOME2',\n",
    "'VETERAN3',\n",
    "'_RACEGR3',\n",
    "'_AGE80',\n",
    "'BPHIGH4', \n",
    "'BPMEDS',\n",
    "'TOLDHI2', \n",
    "'CVDINFR4',\n",
    "'CVDCRHD4',\n",
    "'CVDSTRK3',\n",
    "'ASTHMA3',\n",
    "'ASTHNOW',\n",
    "'CHCSCNCR',\n",
    "'CHCOCNCR',\n",
    "'CHCCOPD1',\n",
    "'HAVARTH3',\n",
    "'ADDEPEV2',\n",
    "'CHCKIDNY',\n",
    "'DIABETE3',\n",
    "'_SMOKER3',\n",
    "'ALCDAY5',\n",
    "'DRNK3GE5',\n",
    "'USENOW3',\n",
    "'EXERANY2',\n",
    "'_PASTRNG',\n",
    "'_PAINDX1', \n",
    "'FTJUDA1_',\n",
    "'FRUTDA1_',\n",
    "'BEANDAY_',\n",
    "'GRENDAY_',\n",
    "'ORNGDAY_',\n",
    "'VEGEDA1_',\n",
    "'_BMI5',\n",
    "'HLTHPLN1',\n",
    "'MEDCOST',\n",
    "'GENHLTH',            \n",
    "'MENTHLTH',\n",
    "'PHYSHLTH',\n",
    "'POORHLTH',\n",
    "'QLACTLM2',\n",
    "'USEEQUIP',\n",
    "'DECIDE',\n",
    "'DIFFWALK',\n",
    "'DIFFDRES',\n",
    "'DIFFALON',\n",
    "]]"
   ]
  },
  {
   "cell_type": "code",
   "execution_count": 592,
   "id": "1e71fada-8c9d-4594-b2a2-695794a3b1fc",
   "metadata": {},
   "outputs": [
    {
     "data": {
      "text/plain": [
       "(441456, 47)"
      ]
     },
     "execution_count": 592,
     "metadata": {},
     "output_type": "execute_result"
    }
   ],
   "source": [
    "df.shape"
   ]
  },
  {
   "cell_type": "code",
   "execution_count": 594,
   "id": "5ea0a213-5957-4517-aa1c-85e134aed9da",
   "metadata": {},
   "outputs": [
    {
     "name": "stderr",
     "output_type": "stream",
     "text": [
      "C:\\Users\\mtyle\\AppData\\Local\\Temp\\ipykernel_15208\\832607432.py:2: SettingWithCopyWarning:\n",
      "\n",
      "\n",
      "A value is trying to be set on a copy of a slice from a DataFrame.\n",
      "Try using .loc[row_indexer,col_indexer] = value instead\n",
      "\n",
      "See the caveats in the documentation: https://pandas.pydata.org/pandas-docs/stable/user_guide/indexing.html#returning-a-view-versus-a-copy\n",
      "\n"
     ]
    }
   ],
   "source": [
    "# Female - 0, Male - 1 \n",
    "df['SEX'] = df['SEX'].replace({2:0})\n",
    "\n",
    "df = df[df.EDUCA != 9]\n",
    "#Group lowest two education levels together\n",
    "df['EDUCA'] = df['EDUCA'].replace({1 : 2})\n",
    "\n",
    "df['INCOME2'] = df['INCOME2'].replace({1 : 0, 2: 10, 3 : 15, 4 : 20, 5: 25, 6 : 35, 7: 50, 8: 75})\n",
    "df = df[df.INCOME2 != 77]\n",
    "df = df[df.INCOME2 != 99]"
   ]
  },
  {
   "cell_type": "markdown",
   "id": "d89f9607-20c1-4cb9-abe2-c4c473304e6a",
   "metadata": {},
   "source": [
    "```\n",
    "{\n",
    "\"1 Less than $10,000\n",
    "Notes: If \"no,\" code 02 18,449 4.21 5.12\n",
    "2 Less than $15,000 ($10,000 to less than $15,000)\n",
    "Notes: If \"no,\" code 03; if \"yes,\" ask 01\n",
    "19,599 4.47 4.51\n",
    "3 Less than $20,000 ($15,000 to less than $20,000)\n",
    "Notes: If \"no,\" code 04; if \"yes,\" ask 02 26,797 6.12 6.55\n",
    "4 Less than $25,000 ($20,000 to less than $25,000)\n",
    "Notes: If \"no,\" ask 05; if \"yes,\" ask 03\n",
    "32,377 7.39 7.65\n",
    "5 Less than $35,000 ($25,000 to less than $35,000)\n",
    "Notes: If \"no,\" ask 06 39,235 8.95 8.77\n",
    "6 Less than $50,000 ($35,000 to less than $50,000)\n",
    "Notes: If \"no,\" ask 07 52,052 11.88 11.35\n",
    "7 Less than $75,000 ($50,000 to less than $75,000)\n",
    "Notes: If \"no,\" code 08 58,130 13.27 12.63\n",
    "8 $75,000 or more\"\n",
    "}\n",
    "``` "
   ]
  },
  {
   "cell_type": "code",
   "execution_count": 597,
   "id": "7b5d17af-8c1b-40f4-9a3f-fafa4ff41fbd",
   "metadata": {},
   "outputs": [],
   "source": [
    "# Have you EVER been told by a doctor, nurse or other health professional that you have high blood pressure? (If\n",
    "# \"Yes\" and respondent is female, ask \"Was this only when you were pregnant?\".)\n",
    "# Including borderline cases with Positives\n",
    "df['BPHIGH4'] = df['BPHIGH4'].replace({ 2:1, 3:0, 4:1 })\n",
    "df = df[df.BPHIGH4 != 7]\n",
    "df = df[df.BPHIGH4 != 9]"
   ]
  },
  {
   "cell_type": "code",
   "execution_count": 599,
   "id": "bfd2f3a7-ba91-4a0e-ae0d-57204aba842e",
   "metadata": {},
   "outputs": [],
   "source": [
    "# BPMEDS Are you currently taking medicine for your high blood pressure?\n",
    "df['BPMEDS'] = df['BPMEDS'].replace({ 2:0})\n",
    "df = df[df.BPMEDS != 7]\n",
    "df = df[df.BPMEDS != 9]\n",
    "df['BPMEDS'].fillna(0, inplace=True)"
   ]
  },
  {
   "cell_type": "code",
   "execution_count": 601,
   "id": "ee1dc78e-d12c-41e8-a184-cfeecf6f99ce",
   "metadata": {},
   "outputs": [],
   "source": [
    "# TOLDHI2 Have you EVER been told by a doctor, nurse or other health professional that your blood cholesterol is high?\n",
    "df['TOLDHI2'] = df['TOLDHI2'].replace({ 2:0})\n",
    "df = df[df.TOLDHI2 != 7]\n",
    "df = df[df.TOLDHI2 != 9]\n",
    "df['TOLDHI2'].fillna(0, inplace=True)"
   ]
  },
  {
   "cell_type": "code",
   "execution_count": 603,
   "id": "11e38d47-747f-4968-9ed7-6038182bf5c8",
   "metadata": {},
   "outputs": [],
   "source": [
    "# CVDINFR4 (Ever told) you had a heart attack, also called a myocardial infarction?\n",
    "df['CVDINFR4'] = df['CVDINFR4'].replace({ 2:0})\n",
    "df = df[df.CVDINFR4 != 7]\n",
    "df = df[df.CVDINFR4 != 9]"
   ]
  },
  {
   "cell_type": "code",
   "execution_count": 605,
   "id": "4f52087f-310c-4663-af76-4aeeda0411c3",
   "metadata": {},
   "outputs": [],
   "source": [
    "# CVDCRHD4 (Ever told) you had angina or coronary heart disease?\n",
    "df['CVDCRHD4'] = df['CVDCRHD4'].replace({ 2:0})\n",
    "df = df[df.CVDCRHD4 != 7]\n",
    "df = df[df.CVDCRHD4 != 9]"
   ]
  },
  {
   "cell_type": "code",
   "execution_count": 607,
   "id": "0eeb9269-426a-473c-ac93-442e0c8ac602",
   "metadata": {},
   "outputs": [],
   "source": [
    "# CVDSTRK3 (Ever told) you had a stroke.\n",
    "df['CVDSTRK3'] = df['CVDSTRK3'].replace({ 2:0})\n",
    "df = df[df.CVDSTRK3 != 7]\n",
    "df = df[df.CVDSTRK3 != 9]"
   ]
  },
  {
   "cell_type": "code",
   "execution_count": 609,
   "id": "aefc2a2d-da0f-480d-841d-c3995a4a056d",
   "metadata": {},
   "outputs": [],
   "source": [
    "# ASTHMA3 (Ever told) you had asthma?\n",
    "df['ASTHMA3'] = df['ASTHMA3'].replace({ 2:0})\n",
    "df = df[df.ASTHMA3 != 7]\n",
    "df = df[df.ASTHMA3 != 9]"
   ]
  },
  {
   "cell_type": "code",
   "execution_count": 611,
   "id": "68a95a85-2826-4893-b15d-6e5af1969c47",
   "metadata": {},
   "outputs": [],
   "source": [
    "# ASTHNOW Do you still have asthma?\n",
    "df['ASTHNOW'] = df['ASTHNOW'].replace({ 2:0})\n",
    "df = df[df.ASTHNOW != 7]\n",
    "df = df[df.ASTHNOW != 9]\n",
    "df['ASTHNOW'].fillna(0, inplace=True)"
   ]
  },
  {
   "cell_type": "code",
   "execution_count": 613,
   "id": "e6692c6e-0138-44f8-890d-d1e7d498c0a3",
   "metadata": {},
   "outputs": [],
   "source": [
    "# CHCSCNCR (Ever told) you had skin cancer?\n",
    "df['CHCSCNCR'] = df['CHCSCNCR'].replace({ 2:0})\n",
    "df = df[df.CHCSCNCR != 7]\n",
    "df = df[df.CHCSCNCR != 9]"
   ]
  },
  {
   "cell_type": "code",
   "execution_count": 615,
   "id": "0ef0626a-13c6-4d23-a468-4f5965e90d96",
   "metadata": {},
   "outputs": [],
   "source": [
    "# CHCOCNCR (Ever told) you had any other types of cancer?\n",
    "df['CHCOCNCR'] = df['CHCOCNCR'].replace({ 2:0})\n",
    "df = df[df.CHCOCNCR != 7]\n",
    "df = df[df.CHCOCNCR != 9]"
   ]
  },
  {
   "cell_type": "code",
   "execution_count": 617,
   "id": "b8835fb8-0eac-4278-81e0-0d05ae3fe8e7",
   "metadata": {},
   "outputs": [],
   "source": [
    "# CHCCOPD1 (Ever told) you have Chronic Obstructive Pulmonary Disease or COPD, emphysema or chronic bronchitis?\n",
    "df['CHCCOPD1'] = df['CHCCOPD1'].replace({ 2:0})\n",
    "df = df[df.CHCCOPD1 != 7]\n",
    "df = df[df.CHCCOPD1 != 9]"
   ]
  },
  {
   "cell_type": "code",
   "execution_count": 619,
   "id": "e075583a-748d-45f6-ad00-e810624fb07d",
   "metadata": {},
   "outputs": [],
   "source": [
    "# HAVARTH3 (Ever told) you have some form of arthritis, rheumatoid arthritis, gout, lupus, or fibromyalgia? (Arthritis diagnoses\n",
    "# include: rheumatism, polymyalgia rheumatica; osteoarthritis (not osteporosis); tendonitis, bursitis, bunion, tennis\n",
    "# elbow; carpal tunnel syndrome, tarsal tunnel syndrome; joint infection, etc.)\n",
    "df['HAVARTH3'] = df['HAVARTH3'].replace({ 2:0})\n",
    "df = df[df.HAVARTH3 != 7]\n",
    "df = df[df.HAVARTH3 != 9]"
   ]
  },
  {
   "cell_type": "code",
   "execution_count": 621,
   "id": "1978d833-2c96-49ff-be2b-ea0d9a658b39",
   "metadata": {},
   "outputs": [],
   "source": [
    "# ADDEPEV2 (Ever told) you that you have a depressive disorder, including depression, major depression, dysthymia, or minor\n",
    "# depression?\n",
    "df['ADDEPEV2'] = df['ADDEPEV2'].replace({ 2:0})\n",
    "df = df[df.ADDEPEV2 != 7]\n",
    "df = df[df.ADDEPEV2 != 9]"
   ]
  },
  {
   "cell_type": "code",
   "execution_count": 623,
   "id": "40d124b2-17c7-4b58-8f00-d2e832452c4c",
   "metadata": {},
   "outputs": [],
   "source": [
    "# CHCKIDNY (Ever told) you have kidney disease? Do NOT include kidney stones, bladder infection or incontinence.(Incontinence\n",
    "# is not being able to control urine flow.)\n",
    "df['CHCKIDNY'] = df['CHCKIDNY'].replace({ 2:0})\n",
    "df = df[df.CHCKIDNY != 7]\n",
    "df = df[df.CHCKIDNY != 9]"
   ]
  },
  {
   "cell_type": "code",
   "execution_count": 625,
   "id": "a1e704ef-55ab-4692-b87f-c0509917e8eb",
   "metadata": {},
   "outputs": [],
   "source": [
    "# DIABETE3 (Ever told) you have diabetes (If \"Yes\" and respondent is female, ask \"Was this only when you were pregnant?\". If\n",
    "# Respondent says pre-diabetes or borderline diabetes, use response code 4.)\n",
    "\n",
    "df['DIABETE3'] = df['DIABETE3'].replace({ 2:0, 3:0, 4:1 })\n",
    "df = df[df.DIABETE3 != 7]\n",
    "df = df[df.DIABETE3 != 9]"
   ]
  },
  {
   "cell_type": "code",
   "execution_count": 627,
   "id": "361c288d-bc2b-4b3b-84d8-b35bd38172a6",
   "metadata": {},
   "outputs": [],
   "source": [
    "# _SMOKER3 Four-level smoker status: Everyday smoker, Someday smoker, Former smoker, Non-smoker\n",
    "\n",
    "df['_SMOKER3'] = df['_SMOKER3'].replace({ 1:4, 2:3 , 3:1 , 4:0 })\n",
    "df = df[df._SMOKER3 != 9]"
   ]
  },
  {
   "cell_type": "code",
   "execution_count": 629,
   "id": "5c4fd4a1-e689-4aed-9b3b-3f0f16d2e093",
   "metadata": {},
   "outputs": [],
   "source": [
    "# _DRNKWEK Calculated total number of alcoholic beverages consumed per week\n",
    "# 0 = ALCDAY5 = 888, AVEDRNK2*DROCDY3_*7, 99900 = ALCDAY5 = 777 or 999 or Missing\n",
    "#df = df[df._DRNKWEK != 99900]\n",
    "df['ALCDAY5'] = df['ALCDAY5'].replace({ 888:0 })\n",
    "df = df[df.ALCDAY5 != 777]\n",
    "df = df[df.ALCDAY5 != 999]\n",
    "df['ALCDAY5'] = df['ALCDAY5'].apply(lambda x: x % 100)\n",
    "\n",
    "df['DRNK3GE5'] = df['DRNK3GE5'].replace({ 88:0 })\n",
    "df = df[df.ALCDAY5 != 77]\n",
    "df = df[df.ALCDAY5 != 99]\n",
    "df['DRNK3GE5'].fillna(0, inplace=True)\n",
    "# Clip High Outliers\n",
    "df['DRNK3GE5'] = df['DRNK3GE5'].clip(upper=5)"
   ]
  },
  {
   "cell_type": "code",
   "execution_count": 631,
   "id": "e9c16769-95a8-485a-b2fd-5761a349e7e4",
   "metadata": {},
   "outputs": [],
   "source": [
    "# USENOW3 Do you currently use chewing tobacco, snuff, or snus every day, some days, or not at all? (Snus (Swedish for snuff)\n",
    "# is a moist smokeless tobacco, usually sold in small pouches that are placed under the lip against the gum.\n",
    "\n",
    "df['USENOW3'] = df['USENOW3'].replace({ 1:2, 2:1 , 3:0 })\n",
    "df = df[df.USENOW3 != 7]\n",
    "df = df[df.USENOW3 != 9]"
   ]
  },
  {
   "cell_type": "code",
   "execution_count": 633,
   "id": "9c02c1d6-b41a-4afa-b9e2-d9bda1a827d4",
   "metadata": {},
   "outputs": [],
   "source": [
    "# EXERANY2 During the past month, other than your regular job, did you participate in any physical activities or exercises such as\n",
    "# running, calisthenics, golf, gardening, or walking for exercise?\n",
    "df['EXERANY2'] = df['EXERANY2'].replace({ 2:0 })\n",
    "df = df[df.EXERANY2 != 7]\n",
    "df = df[df.EXERANY2 != 9]"
   ]
  },
  {
   "cell_type": "code",
   "execution_count": 635,
   "id": "e0f52f14-3e25-4c36-90bf-014b21725336",
   "metadata": {},
   "outputs": [],
   "source": [
    "# _PASTRNG Muscle Strengthening Recommendation\n",
    "df['_PASTRNG'] = df['_PASTRNG'].replace({ 2:0, 9:0 })"
   ]
  },
  {
   "cell_type": "code",
   "execution_count": 637,
   "id": "84e91f6f-1fd3-48e6-887d-bfe49a106d99",
   "metadata": {},
   "outputs": [],
   "source": [
    "# _PAINDX1 Physical Activity Index\n",
    "df['_PAINDX1'] = df['_PAINDX1'].replace({ 2:0, 9:0 })"
   ]
  },
  {
   "cell_type": "code",
   "execution_count": 639,
   "id": "b5f510de-90d7-4363-9d74-f83c46fc0f8e",
   "metadata": {},
   "outputs": [],
   "source": [
    "# HLTHPLN1 Health Care Access\n",
    "df['HLTHPLN1'] = df['HLTHPLN1'].replace({ 2:0 })\n",
    "df = df[df.HLTHPLN1 != 7]\n",
    "df = df[df.HLTHPLN1 != 9]"
   ]
  },
  {
   "cell_type": "code",
   "execution_count": 641,
   "id": "8d5fa2bd-287c-453c-be07-9c72640a710e",
   "metadata": {},
   "outputs": [],
   "source": [
    "# MEDCOST Was there a time in the past 12 months when you needed to see a doctor but could not because of cost?\n",
    "df['MEDCOST'] = df['MEDCOST'].replace({ 2:0 })\n",
    "df = df[df.MEDCOST != 7]\n",
    "df = df[df.MEDCOST != 9]"
   ]
  },
  {
   "cell_type": "code",
   "execution_count": 643,
   "id": "7b272cee-a2b0-43a3-8c80-7cd7028cb5a8",
   "metadata": {},
   "outputs": [],
   "source": [
    "# GENHLTH Would you say that in general your health is:\n",
    "df = df[df.GENHLTH != 7]\n",
    "df = df[df.GENHLTH != 9]"
   ]
  },
  {
   "cell_type": "code",
   "execution_count": 645,
   "id": "89ee508a-341c-4b06-b178-f2944df1f0b5",
   "metadata": {},
   "outputs": [],
   "source": [
    "# PHYSHLTH Now thinking about your physical health, which includes physical illness and injury, for how many days during the past\n",
    "# 30 days was your physical health not good?\n",
    "df['PHYSHLTH'] = df['PHYSHLTH'].replace({ 88:0 })\n",
    "df = df[df.PHYSHLTH != 77]\n",
    "df = df[df.PHYSHLTH != 99]"
   ]
  },
  {
   "cell_type": "code",
   "execution_count": 647,
   "id": "4816e5df-e4cd-4615-a4ff-48ea4617d498",
   "metadata": {},
   "outputs": [],
   "source": [
    "# MENTHLTH Now thinking about your mental health, which includes stress, depression, and problems with emotions, for how many\n",
    "# days during the past 30 days was your mental health not good?\n",
    "df['MENTHLTH'] = df['MENTHLTH'].replace({ 88:0 })\n",
    "df = df[df.MENTHLTH != 77]\n",
    "df = df[df.MENTHLTH != 99]"
   ]
  },
  {
   "cell_type": "code",
   "execution_count": 649,
   "id": "2bd65a58-4eb1-4442-9b6f-45df51996521",
   "metadata": {},
   "outputs": [],
   "source": [
    "# POORHLTH During the past 30 days, for about how many days did poor physical or mental health keep you from doing your usual\n",
    "# activities, such as self-care, work, or recreation?\n",
    "\n",
    "df['POORHLTH'] = df['POORHLTH'].replace({ 88:0 })\n",
    "df = df[df.POORHLTH != 77]\n",
    "df = df[df.POORHLTH != 99]\n",
    "df['POORHLTH'].fillna(0, inplace=True)"
   ]
  },
  {
   "cell_type": "code",
   "execution_count": 651,
   "id": "d10119d9-02a9-46bd-abdb-4bc8299844c5",
   "metadata": {},
   "outputs": [],
   "source": [
    "# QLACTLM2 Are you limited in any way in any activities because of physical, mental, or emotional problems?\n",
    "\n",
    "df['QLACTLM2'] = df['QLACTLM2'].replace({ 2:0 })\n",
    "df = df[df.QLACTLM2 != 7]\n",
    "df = df[df.QLACTLM2 != 9]"
   ]
  },
  {
   "cell_type": "code",
   "execution_count": 653,
   "id": "355b859e-4cb0-412b-a2ba-c715db2a4ebd",
   "metadata": {},
   "outputs": [],
   "source": [
    "# USEEQUIP Do you now have any health problem that requires you to use special equipment, such as a cane, a wheelchair, a\n",
    "# special bed, or a special telephone? (Include occasional use or use in certain circumstances.)\n",
    "\n",
    "df['USEEQUIP'] = df['USEEQUIP'].replace({ 2:0 })\n",
    "df = df[df.USEEQUIP != 7]\n",
    "df = df[df.USEEQUIP != 9]"
   ]
  },
  {
   "cell_type": "code",
   "execution_count": 655,
   "id": "eb5fca45-c787-400c-b1ad-13bccdb1f90e",
   "metadata": {},
   "outputs": [],
   "source": [
    "# DECIDE Because of a physical, mental, or emotional condition, do you have serious difficulty concentrating, remembering, or\n",
    "# making decisions?\n",
    "\n",
    "df['DECIDE'] = df['DECIDE'].replace({ 2:0 })\n",
    "df = df[df.DECIDE != 7]\n",
    "df = df[df.DECIDE != 9]"
   ]
  },
  {
   "cell_type": "code",
   "execution_count": 657,
   "id": "fa62c454-6872-46b2-ac36-f4516828c146",
   "metadata": {},
   "outputs": [],
   "source": [
    "# DIFFWALK Do you have serious difficulty walking or climbing stairs?\n",
    "\n",
    "df['DIFFWALK'] = df['DIFFWALK'].replace({ 2:0 })\n",
    "df = df[df.DIFFWALK != 7]\n",
    "df = df[df.DIFFWALK != 9]"
   ]
  },
  {
   "cell_type": "code",
   "execution_count": 659,
   "id": "570cec43-1f34-4e53-ad24-efbc20b5d3d0",
   "metadata": {},
   "outputs": [],
   "source": [
    "# DIFFDRES Do you have difficulty dressing or bathing?\n",
    "df['DIFFDRES'] = df['DIFFDRES'].replace({ 2:0 })\n",
    "df = df[df.DIFFDRES != 7]\n",
    "df = df[df.DIFFDRES != 9]"
   ]
  },
  {
   "cell_type": "code",
   "execution_count": 661,
   "id": "a95c0236-c33f-4bf0-9e14-87b4090c47fe",
   "metadata": {},
   "outputs": [],
   "source": [
    "# DIFFALON Because of a physical, mental, or emotional condition, do you have difficulty doing errands alone such as visiting a\n",
    "# doctor’s office or shopping?\n",
    "\n",
    "df['DIFFALON'] = df['DIFFALON'].replace({ 2:0 })\n",
    "df = df[df.DIFFALON != 7]\n",
    "df = df[df.DIFFALON != 9]"
   ]
  },
  {
   "cell_type": "code",
   "execution_count": 663,
   "id": "d448b942-b253-4928-85a4-47dc5d8c5960",
   "metadata": {},
   "outputs": [],
   "source": [
    "# VETERAN3 Have you ever served on active duty in the United States Armed Forces, either in the regular military or in a National\n",
    "# Guard or military reserve unit? (Active duty does not include training for the Reserves or National Guard, but DOES\n",
    "# include activation, for example, for the Persian Gulf War.)\n",
    "\n",
    "df['VETERAN3'] = df['VETERAN3'].replace({ 2:0 })\n",
    "df = df[df.VETERAN3 != 7]\n",
    "df = df[df.VETERAN3 != 9]\n"
   ]
  },
  {
   "cell_type": "code",
   "execution_count": 665,
   "id": "8d6f62e6-7d84-444e-8494-d57b678bfc0e",
   "metadata": {},
   "outputs": [],
   "source": [
    "# _RACEGR3 Five-level race/ethnicity category\n",
    "df = df[df._RACEGR3 != 9]\n",
    "df['_RACEGR3'] = df['_RACEGR3'].replace({ 1: 'White_(Non-Hispanic)', 2: 'Black_(Non-Hispanic)', 3: 'Hispanic', 4: 'Other_race_only', 5: 'Multiracial_(Non-Hispanic)' })\n"
   ]
  },
  {
   "cell_type": "code",
   "execution_count": 667,
   "id": "d89fcc76-a4a1-4efc-b68f-0a3e6ce8f639",
   "metadata": {},
   "outputs": [],
   "source": [
    "df.dropna(inplace=True)"
   ]
  },
  {
   "cell_type": "code",
   "execution_count": 669,
   "id": "e9aeb99d-d788-4c63-bb80-ad66d8a91151",
   "metadata": {},
   "outputs": [
    {
     "data": {
      "text/plain": [
       "(280703, 47)"
      ]
     },
     "execution_count": 669,
     "metadata": {},
     "output_type": "execute_result"
    }
   ],
   "source": [
    "df.shape"
   ]
  },
  {
   "cell_type": "code",
   "execution_count": 671,
   "id": "cb1c6476-6b49-4dcc-8db7-bda641d96a56",
   "metadata": {},
   "outputs": [
    {
     "name": "stdout",
     "output_type": "stream",
     "text": [
      "Percent of original data set: 0.6358572541770867\n"
     ]
    }
   ],
   "source": [
    "print(\"Portion of original data set in the cleaned data set:\", df.shape[0]/BRFFS.shape[0])"
   ]
  },
  {
   "cell_type": "code",
   "execution_count": 673,
   "id": "0ebbacde-d6fc-463a-9167-2165a2c3d1ed",
   "metadata": {},
   "outputs": [
    {
     "data": {
      "text/plain": [
       "array([4018., 2509., 2819., ..., 4159., 5035., 4723.])"
      ]
     },
     "execution_count": 673,
     "metadata": {},
     "output_type": "execute_result"
    }
   ],
   "source": [
    "df._BMI5.unique()"
   ]
  },
  {
   "cell_type": "code",
   "execution_count": 675,
   "id": "56b70eea-4ed6-4ff3-9504-da5f2aabf278",
   "metadata": {},
   "outputs": [],
   "source": [
    "#All These Columns Have Two Implied Decimal Places\n",
    "df['_BMI5'] = df['_BMI5'].apply(lambda x: x/100)\n",
    "df['FTJUDA1_'] = df['FTJUDA1_'].apply(lambda x: x/100)\n",
    "df['FRUTDA1_'] = df['FRUTDA1_'].apply(lambda x: x/100)\n",
    "df['BEANDAY_'] = df['BEANDAY_'].apply(lambda x: x/100)\n",
    "df['GRENDAY_'] = df['GRENDAY_'].apply(lambda x: x/100)\n",
    "df['ORNGDAY_'] = df['ORNGDAY_'].apply(lambda x: x/100)\n",
    "df['VEGEDA1_'] = df['VEGEDA1_'].apply(lambda x: x/100)\n",
    "\n",
    "#Clip outliers\n",
    "df['FTJUDA1_'] = df['FTJUDA1_'].clip(upper=15)\n",
    "df['FRUTDA1_'] = df['FRUTDA1_'].clip(upper=15)\n",
    "df['BEANDAY_'] = df['BEANDAY_'].clip(upper=15)\n",
    "df['GRENDAY_'] = df['GRENDAY_'].clip(upper=15)\n",
    "df['ORNGDAY_'] = df['ORNGDAY_'].clip(upper=15)\n",
    "df['VEGEDA1_'] = df['VEGEDA1_'].clip(upper=15)"
   ]
  },
  {
   "cell_type": "code",
   "execution_count": 677,
   "id": "08baed84-35d5-4899-9e26-9a99db324a2b",
   "metadata": {},
   "outputs": [
    {
     "data": {
      "text/plain": [
       "array([40.18, 25.09, 28.19, ..., 41.59, 50.35, 47.23])"
      ]
     },
     "execution_count": 677,
     "metadata": {},
     "output_type": "execute_result"
    }
   ],
   "source": [
    "df._BMI5.unique()"
   ]
  },
  {
   "cell_type": "code",
   "execution_count": 679,
   "id": "be97d611-109a-4f95-86fe-6a4ee5c66fe3",
   "metadata": {},
   "outputs": [],
   "source": [
    "df = df.rename(columns={ 'SEX':'Sex',\n",
    "'EDUCA': 'Education_Level',\n",
    "'INCOME2': 'Household_Income',\n",
    "'VETERAN3' : 'Veteran',\n",
    "'_AGE80' : 'Age',\n",
    "'BPHIGH4' : 'High_Blood_Pressure', \n",
    "'BPMEDS' : 'Blood_Pressure_Meds',\n",
    "'TOLDHI2' : 'High_Cholesterol', \n",
    "'CVDINFR4' : 'Heart_Attack',\n",
    "'CVDCRHD4' : 'Angina/Heart_Disease',\n",
    "'CVDSTRK3' : 'Stroke',\n",
    "'ASTHMA3' : 'Asthma_(ever)',\n",
    "'ASTHNOW': 'Asthma_(currently)',\n",
    "'CHCSCNCR' : 'Skin_Cancer',\n",
    "'CHCOCNCR' : 'Cancer_(not skin)',\n",
    "'CHCCOPD1' : 'COPD_emphasema_chronic_bronchitis',\n",
    "'HAVARTH3' : 'Arthritis_RA_gout_lupus_fibromyalgia',\n",
    "'ADDEPEV2' : 'Depression',\n",
    "'CHCKIDNY' : 'Kidney_Disease',\n",
    "'DIABETE3' : 'Diabetes',\n",
    "'_SMOKER3' : 'Smoker',\n",
    "'ALCDAY5': 'Days_at_least_1_drink_recently',\n",
    "'DRNK3GE5' : 'Binge_Drinking_last_30_days',\n",
    "'USENOW3' : 'Chewing_tobacco',\n",
    "'EXERANY2' : 'Any_Excercise',\n",
    "'_PASTRNG' : 'Strength_Excercise',\n",
    "'_PAINDX1' : 'Aerobic_Excercise', \n",
    "'FTJUDA1_' : 'Daily_Fruit_Juice',\n",
    "'FRUTDA1_' : 'Daily_Fruits',\n",
    "'BEANDAY_' : 'Daily_Beans',\n",
    "'GRENDAY_' : 'Daily_Green_Veg',\n",
    "'ORNGDAY_' : 'Daily_Orange_Veg',\n",
    "'VEGEDA1_' : 'Daily_Other_Veg',\n",
    "'_BMI5' : 'BMI' ,\n",
    "'HLTHPLN1' : 'Has_Health_Coverage' ,\n",
    "'MEDCOST' : 'Could_not_afford_to_see_doctor',\n",
    "'GENHLTH' : 'General_Health_Self_Rating',            \n",
    "'MENTHLTH' : 'Poor_Mental_Health',\n",
    "'PHYSHLTH' : 'Poor_Physical_Health',\n",
    "'POORHLTH' : 'Kept_from_doing_activities',\n",
    "'QLACTLM2' : 'Limited_Activities' ,\n",
    "'USEEQUIP': 'Uses_Special_Equipment',\n",
    "'DECIDE' : 'Difficulty_Concentrating',\n",
    "'DIFFWALK' : 'Difficulty_walking_climbing_stairs', # Do you have serious difficulty walking or climbing stairs?\n",
    "'DIFFDRES' : 'Difficulty_Dressing', # Do you have difficulty dressing or bathing?\n",
    "'DIFFALON' : 'Difficulty_Alone' })"
   ]
  },
  {
   "cell_type": "code",
   "execution_count": 681,
   "id": "e9ebfb1e-9981-4c87-af46-e17c7cb494cc",
   "metadata": {},
   "outputs": [
    {
     "name": "stdout",
     "output_type": "stream",
     "text": [
      "Index(['Sex', 'Education_Level', 'Household_Income', 'Veteran', '_RACEGR3',\n",
      "       'Age', 'High_Blood_Pressure', 'Blood_Pressure_Meds', 'High_Cholesterol',\n",
      "       'Heart_Attack', 'Angina/Heart_Disease', 'Stroke', 'Asthma_(ever)',\n",
      "       'Asthma_(currently)', 'Skin_Cancer', 'Cancer_(not skin)',\n",
      "       'COPD_emphasema_chronic_bronchitis',\n",
      "       'Arthritis_RA_gout_lupus_fibromyalgia', 'Depression', 'Kidney_Disease',\n",
      "       'Diabetes', 'Smoker', 'Days_at_least_1_drink_recently',\n",
      "       'Binge_Drinking_last_30_days', 'Chewing_tobacco', 'Any_Excercise',\n",
      "       'Strength_Excercise', 'Aerobic_Excercise', 'Daily_Fruit_Juice',\n",
      "       'Daily_Fruits', 'Daily_Beans', 'Daily_Green_Veg', 'Daily_Orange_Veg',\n",
      "       'Daily_Other_Veg', 'BMI', 'Has_Health_Coverage',\n",
      "       'Could_not_afford_to_see_doctor', 'General_Health_Self_Rating',\n",
      "       'Poor_Mental_Health', 'Poor_Physical_Health',\n",
      "       'Kept_from_doing_activities', 'Limited_Activities',\n",
      "       'Uses_Special_Equipment', 'Difficulty_Concentrating',\n",
      "       'Difficulty_walking_climbing_stairs', 'Difficulty_Dressing',\n",
      "       'Difficulty_Alone'],\n",
      "      dtype='object')\n"
     ]
    }
   ],
   "source": [
    "print(df.keys())"
   ]
  },
  {
   "cell_type": "code",
   "execution_count": 685,
   "id": "429c5523-c8df-4ad8-8de9-84b8bf08ab76",
   "metadata": {},
   "outputs": [
    {
     "name": "stdout",
     "output_type": "stream",
     "text": [
      "<class 'pandas.core.frame.DataFrame'>\n",
      "Index: 280703 entries, 0 to 441455\n",
      "Data columns (total 47 columns):\n",
      " #   Column                                Non-Null Count   Dtype  \n",
      "---  ------                                --------------   -----  \n",
      " 0   Sex                                   280703 non-null  float64\n",
      " 1   Education_Level                       280703 non-null  float64\n",
      " 2   Household_Income                      280703 non-null  float64\n",
      " 3   Veteran                               280703 non-null  float64\n",
      " 4   _RACEGR3                              280703 non-null  object \n",
      " 5   Age                                   280703 non-null  float64\n",
      " 6   High_Blood_Pressure                   280703 non-null  float64\n",
      " 7   Blood_Pressure_Meds                   280703 non-null  float64\n",
      " 8   High_Cholesterol                      280703 non-null  float64\n",
      " 9   Heart_Attack                          280703 non-null  float64\n",
      " 10  Angina/Heart_Disease                  280703 non-null  float64\n",
      " 11  Stroke                                280703 non-null  float64\n",
      " 12  Asthma_(ever)                         280703 non-null  float64\n",
      " 13  Asthma_(currently)                    280703 non-null  float64\n",
      " 14  Skin_Cancer                           280703 non-null  float64\n",
      " 15  Cancer_(not skin)                     280703 non-null  float64\n",
      " 16  COPD_emphasema_chronic_bronchitis     280703 non-null  float64\n",
      " 17  Arthritis_RA_gout_lupus_fibromyalgia  280703 non-null  float64\n",
      " 18  Depression                            280703 non-null  float64\n",
      " 19  Kidney_Disease                        280703 non-null  float64\n",
      " 20  Diabetes                              280703 non-null  float64\n",
      " 21  Smoker                                280703 non-null  float64\n",
      " 22  Days_at_least_1_drink_recently        280703 non-null  float64\n",
      " 23  Binge_Drinking_last_30_days           280703 non-null  float64\n",
      " 24  Chewing_tobacco                       280703 non-null  float64\n",
      " 25  Any_Excercise                         280703 non-null  float64\n",
      " 26  Strength_Excercise                    280703 non-null  float64\n",
      " 27  Aerobic_Excercise                     280703 non-null  float64\n",
      " 28  Daily_Fruit_Juice                     280703 non-null  float64\n",
      " 29  Daily_Fruits                          280703 non-null  float64\n",
      " 30  Daily_Beans                           280703 non-null  float64\n",
      " 31  Daily_Green_Veg                       280703 non-null  float64\n",
      " 32  Daily_Orange_Veg                      280703 non-null  float64\n",
      " 33  Daily_Other_Veg                       280703 non-null  float64\n",
      " 34  BMI                                   280703 non-null  float64\n",
      " 35  Has_Health_Coverage                   280703 non-null  float64\n",
      " 36  Could_not_afford_to_see_doctor        280703 non-null  float64\n",
      " 37  General_Health_Self_Rating            280703 non-null  float64\n",
      " 38  Poor_Mental_Health                    280703 non-null  float64\n",
      " 39  Poor_Physical_Health                  280703 non-null  float64\n",
      " 40  Kept_from_doing_activities            280703 non-null  float64\n",
      " 41  Limited_Activities                    280703 non-null  float64\n",
      " 42  Uses_Special_Equipment                280703 non-null  float64\n",
      " 43  Difficulty_Concentrating              280703 non-null  float64\n",
      " 44  Difficulty_walking_climbing_stairs    280703 non-null  float64\n",
      " 45  Difficulty_Dressing                   280703 non-null  float64\n",
      " 46  Difficulty_Alone                      280703 non-null  float64\n",
      "dtypes: float64(46), object(1)\n",
      "memory usage: 102.8+ MB\n"
     ]
    }
   ],
   "source": [
    "df.info()"
   ]
  },
  {
   "cell_type": "code",
   "execution_count": 687,
   "id": "f648b679-60a8-45da-8f00-da3c2bd57dd4",
   "metadata": {},
   "outputs": [
    {
     "data": {
      "text/html": [
       "<div>\n",
       "<style scoped>\n",
       "    .dataframe tbody tr th:only-of-type {\n",
       "        vertical-align: middle;\n",
       "    }\n",
       "\n",
       "    .dataframe tbody tr th {\n",
       "        vertical-align: top;\n",
       "    }\n",
       "\n",
       "    .dataframe thead th {\n",
       "        text-align: right;\n",
       "    }\n",
       "</style>\n",
       "<table border=\"1\" class=\"dataframe\">\n",
       "  <thead>\n",
       "    <tr style=\"text-align: right;\">\n",
       "      <th></th>\n",
       "      <th>Sex</th>\n",
       "      <th>Education_Level</th>\n",
       "      <th>Household_Income</th>\n",
       "      <th>Veteran</th>\n",
       "      <th>Age</th>\n",
       "      <th>High_Blood_Pressure</th>\n",
       "      <th>Blood_Pressure_Meds</th>\n",
       "      <th>High_Cholesterol</th>\n",
       "      <th>Heart_Attack</th>\n",
       "      <th>Angina/Heart_Disease</th>\n",
       "      <th>...</th>\n",
       "      <th>Uses_Special_Equipment</th>\n",
       "      <th>Difficulty_Concentrating</th>\n",
       "      <th>Difficulty_walking_climbing_stairs</th>\n",
       "      <th>Difficulty_Dressing</th>\n",
       "      <th>Difficulty_Alone</th>\n",
       "      <th>Black_(Non-Hispanic)</th>\n",
       "      <th>Hispanic</th>\n",
       "      <th>Multiracial_(Non-Hispanic)</th>\n",
       "      <th>Other_race_only</th>\n",
       "      <th>White_(Non-Hispanic)</th>\n",
       "    </tr>\n",
       "  </thead>\n",
       "  <tbody>\n",
       "    <tr>\n",
       "      <th>0</th>\n",
       "      <td>0.0</td>\n",
       "      <td>4.0</td>\n",
       "      <td>15.0</td>\n",
       "      <td>0.0</td>\n",
       "      <td>63.0</td>\n",
       "      <td>1.0</td>\n",
       "      <td>1.0</td>\n",
       "      <td>1.0</td>\n",
       "      <td>0.0</td>\n",
       "      <td>0.0</td>\n",
       "      <td>...</td>\n",
       "      <td>1.0</td>\n",
       "      <td>0.0</td>\n",
       "      <td>1.0</td>\n",
       "      <td>1.0</td>\n",
       "      <td>1.0</td>\n",
       "      <td>0.0</td>\n",
       "      <td>0.0</td>\n",
       "      <td>0.0</td>\n",
       "      <td>0.0</td>\n",
       "      <td>1.0</td>\n",
       "    </tr>\n",
       "    <tr>\n",
       "      <th>1</th>\n",
       "      <td>0.0</td>\n",
       "      <td>6.0</td>\n",
       "      <td>0.0</td>\n",
       "      <td>0.0</td>\n",
       "      <td>52.0</td>\n",
       "      <td>0.0</td>\n",
       "      <td>0.0</td>\n",
       "      <td>0.0</td>\n",
       "      <td>0.0</td>\n",
       "      <td>0.0</td>\n",
       "      <td>...</td>\n",
       "      <td>0.0</td>\n",
       "      <td>1.0</td>\n",
       "      <td>0.0</td>\n",
       "      <td>0.0</td>\n",
       "      <td>0.0</td>\n",
       "      <td>0.0</td>\n",
       "      <td>0.0</td>\n",
       "      <td>0.0</td>\n",
       "      <td>0.0</td>\n",
       "      <td>1.0</td>\n",
       "    </tr>\n",
       "    <tr>\n",
       "      <th>3</th>\n",
       "      <td>0.0</td>\n",
       "      <td>4.0</td>\n",
       "      <td>75.0</td>\n",
       "      <td>0.0</td>\n",
       "      <td>63.0</td>\n",
       "      <td>1.0</td>\n",
       "      <td>1.0</td>\n",
       "      <td>1.0</td>\n",
       "      <td>0.0</td>\n",
       "      <td>0.0</td>\n",
       "      <td>...</td>\n",
       "      <td>0.0</td>\n",
       "      <td>1.0</td>\n",
       "      <td>1.0</td>\n",
       "      <td>0.0</td>\n",
       "      <td>1.0</td>\n",
       "      <td>0.0</td>\n",
       "      <td>0.0</td>\n",
       "      <td>0.0</td>\n",
       "      <td>0.0</td>\n",
       "      <td>1.0</td>\n",
       "    </tr>\n",
       "    <tr>\n",
       "      <th>5</th>\n",
       "      <td>0.0</td>\n",
       "      <td>3.0</td>\n",
       "      <td>35.0</td>\n",
       "      <td>0.0</td>\n",
       "      <td>73.0</td>\n",
       "      <td>1.0</td>\n",
       "      <td>1.0</td>\n",
       "      <td>0.0</td>\n",
       "      <td>0.0</td>\n",
       "      <td>0.0</td>\n",
       "      <td>...</td>\n",
       "      <td>0.0</td>\n",
       "      <td>0.0</td>\n",
       "      <td>0.0</td>\n",
       "      <td>0.0</td>\n",
       "      <td>0.0</td>\n",
       "      <td>0.0</td>\n",
       "      <td>0.0</td>\n",
       "      <td>0.0</td>\n",
       "      <td>0.0</td>\n",
       "      <td>1.0</td>\n",
       "    </tr>\n",
       "    <tr>\n",
       "      <th>6</th>\n",
       "      <td>0.0</td>\n",
       "      <td>5.0</td>\n",
       "      <td>20.0</td>\n",
       "      <td>0.0</td>\n",
       "      <td>70.0</td>\n",
       "      <td>1.0</td>\n",
       "      <td>1.0</td>\n",
       "      <td>1.0</td>\n",
       "      <td>0.0</td>\n",
       "      <td>0.0</td>\n",
       "      <td>...</td>\n",
       "      <td>0.0</td>\n",
       "      <td>0.0</td>\n",
       "      <td>0.0</td>\n",
       "      <td>0.0</td>\n",
       "      <td>0.0</td>\n",
       "      <td>0.0</td>\n",
       "      <td>0.0</td>\n",
       "      <td>0.0</td>\n",
       "      <td>1.0</td>\n",
       "      <td>0.0</td>\n",
       "    </tr>\n",
       "  </tbody>\n",
       "</table>\n",
       "<p>5 rows × 51 columns</p>\n",
       "</div>"
      ],
      "text/plain": [
       "   Sex  Education_Level  Household_Income  Veteran   Age  High_Blood_Pressure  \\\n",
       "0  0.0              4.0              15.0      0.0  63.0                  1.0   \n",
       "1  0.0              6.0               0.0      0.0  52.0                  0.0   \n",
       "3  0.0              4.0              75.0      0.0  63.0                  1.0   \n",
       "5  0.0              3.0              35.0      0.0  73.0                  1.0   \n",
       "6  0.0              5.0              20.0      0.0  70.0                  1.0   \n",
       "\n",
       "   Blood_Pressure_Meds  High_Cholesterol  Heart_Attack  Angina/Heart_Disease  \\\n",
       "0                  1.0               1.0           0.0                   0.0   \n",
       "1                  0.0               0.0           0.0                   0.0   \n",
       "3                  1.0               1.0           0.0                   0.0   \n",
       "5                  1.0               0.0           0.0                   0.0   \n",
       "6                  1.0               1.0           0.0                   0.0   \n",
       "\n",
       "   ...  Uses_Special_Equipment  Difficulty_Concentrating  \\\n",
       "0  ...                     1.0                       0.0   \n",
       "1  ...                     0.0                       1.0   \n",
       "3  ...                     0.0                       1.0   \n",
       "5  ...                     0.0                       0.0   \n",
       "6  ...                     0.0                       0.0   \n",
       "\n",
       "   Difficulty_walking_climbing_stairs  Difficulty_Dressing  Difficulty_Alone  \\\n",
       "0                                 1.0                  1.0               1.0   \n",
       "1                                 0.0                  0.0               0.0   \n",
       "3                                 1.0                  0.0               1.0   \n",
       "5                                 0.0                  0.0               0.0   \n",
       "6                                 0.0                  0.0               0.0   \n",
       "\n",
       "   Black_(Non-Hispanic)  Hispanic  Multiracial_(Non-Hispanic)  \\\n",
       "0                   0.0       0.0                         0.0   \n",
       "1                   0.0       0.0                         0.0   \n",
       "3                   0.0       0.0                         0.0   \n",
       "5                   0.0       0.0                         0.0   \n",
       "6                   0.0       0.0                         0.0   \n",
       "\n",
       "   Other_race_only  White_(Non-Hispanic)  \n",
       "0              0.0                   1.0  \n",
       "1              0.0                   1.0  \n",
       "3              0.0                   1.0  \n",
       "5              0.0                   1.0  \n",
       "6              1.0                   0.0  \n",
       "\n",
       "[5 rows x 51 columns]"
      ]
     },
     "execution_count": 687,
     "metadata": {},
     "output_type": "execute_result"
    }
   ],
   "source": [
    "dummies = pd.get_dummies(df._RACEGR3, dtype=float)\n",
    "df = pd.concat([df, dummies], axis=1)\n",
    "df.drop(['_RACEGR3'], axis=1, inplace=True)"
   ]
  },
  {
   "cell_type": "code",
   "execution_count": 501,
   "id": "78e9bc34-e1f6-4e5e-9f80-0477b4e89b7e",
   "metadata": {},
   "outputs": [
    {
     "data": {
      "text/plain": [
       "(280703, 51)"
      ]
     },
     "execution_count": 501,
     "metadata": {},
     "output_type": "execute_result"
    }
   ],
   "source": [
    "df.shape"
   ]
  },
  {
   "cell_type": "code",
   "execution_count": 1879,
   "id": "d7d5bbf2-45bb-4c7e-a07f-767be44a7e47",
   "metadata": {},
   "outputs": [],
   "source": [
    "# Some_Alc = df[df['Drinks/30_days'] > 30]\n",
    "# px.histogram(Some_Alc, x='Drinks/30_days', color='Diabetes')"
   ]
  },
  {
   "cell_type": "code",
   "execution_count": 1883,
   "id": "32ebc9fd-ff8b-4d1f-a18e-869d86dee538",
   "metadata": {},
   "outputs": [
    {
     "data": {
      "text/html": [
       "<div>\n",
       "<style scoped>\n",
       "    .dataframe tbody tr th:only-of-type {\n",
       "        vertical-align: middle;\n",
       "    }\n",
       "\n",
       "    .dataframe tbody tr th {\n",
       "        vertical-align: top;\n",
       "    }\n",
       "\n",
       "    .dataframe thead th {\n",
       "        text-align: right;\n",
       "    }\n",
       "</style>\n",
       "<table border=\"1\" class=\"dataframe\">\n",
       "  <thead>\n",
       "    <tr style=\"text-align: right;\">\n",
       "      <th></th>\n",
       "      <th>Sex</th>\n",
       "      <th>Education Level</th>\n",
       "      <th>Household Income</th>\n",
       "      <th>Veteran</th>\n",
       "      <th>Age</th>\n",
       "      <th>High Blood Pressure</th>\n",
       "      <th>Takes Blood Pressure Meds</th>\n",
       "      <th>High Cholesterol</th>\n",
       "      <th>Heart Attack</th>\n",
       "      <th>Angina or Cornonary Heart Disease</th>\n",
       "      <th>...</th>\n",
       "      <th>Uses Special Equipment</th>\n",
       "      <th>Difficulty Concentrating, etc</th>\n",
       "      <th>Difficulty walking on climbing stairs</th>\n",
       "      <th>Difficulty Dressing</th>\n",
       "      <th>Difficulty Alone</th>\n",
       "      <th>Black_(Non-Hispanic)</th>\n",
       "      <th>Hispanic</th>\n",
       "      <th>Miltiracial_(Non-Hispanic)</th>\n",
       "      <th>Other_race_only</th>\n",
       "      <th>White_(Non-Hispanic)</th>\n",
       "    </tr>\n",
       "  </thead>\n",
       "  <tbody>\n",
       "    <tr>\n",
       "      <th>0</th>\n",
       "      <td>0.0</td>\n",
       "      <td>4.0</td>\n",
       "      <td>3.0</td>\n",
       "      <td>0.0</td>\n",
       "      <td>63.0</td>\n",
       "      <td>1.0</td>\n",
       "      <td>1.0</td>\n",
       "      <td>1.0</td>\n",
       "      <td>0.0</td>\n",
       "      <td>0.0</td>\n",
       "      <td>...</td>\n",
       "      <td>1.0</td>\n",
       "      <td>0.0</td>\n",
       "      <td>1.0</td>\n",
       "      <td>1.0</td>\n",
       "      <td>1.0</td>\n",
       "      <td>0.0</td>\n",
       "      <td>0.0</td>\n",
       "      <td>0.0</td>\n",
       "      <td>0.0</td>\n",
       "      <td>1.0</td>\n",
       "    </tr>\n",
       "    <tr>\n",
       "      <th>1</th>\n",
       "      <td>0.0</td>\n",
       "      <td>6.0</td>\n",
       "      <td>1.0</td>\n",
       "      <td>0.0</td>\n",
       "      <td>52.0</td>\n",
       "      <td>0.0</td>\n",
       "      <td>0.0</td>\n",
       "      <td>0.0</td>\n",
       "      <td>0.0</td>\n",
       "      <td>0.0</td>\n",
       "      <td>...</td>\n",
       "      <td>0.0</td>\n",
       "      <td>1.0</td>\n",
       "      <td>0.0</td>\n",
       "      <td>0.0</td>\n",
       "      <td>0.0</td>\n",
       "      <td>0.0</td>\n",
       "      <td>0.0</td>\n",
       "      <td>0.0</td>\n",
       "      <td>0.0</td>\n",
       "      <td>1.0</td>\n",
       "    </tr>\n",
       "    <tr>\n",
       "      <th>3</th>\n",
       "      <td>0.0</td>\n",
       "      <td>4.0</td>\n",
       "      <td>8.0</td>\n",
       "      <td>0.0</td>\n",
       "      <td>63.0</td>\n",
       "      <td>1.0</td>\n",
       "      <td>1.0</td>\n",
       "      <td>1.0</td>\n",
       "      <td>0.0</td>\n",
       "      <td>0.0</td>\n",
       "      <td>...</td>\n",
       "      <td>0.0</td>\n",
       "      <td>1.0</td>\n",
       "      <td>1.0</td>\n",
       "      <td>0.0</td>\n",
       "      <td>1.0</td>\n",
       "      <td>0.0</td>\n",
       "      <td>0.0</td>\n",
       "      <td>0.0</td>\n",
       "      <td>0.0</td>\n",
       "      <td>1.0</td>\n",
       "    </tr>\n",
       "    <tr>\n",
       "      <th>5</th>\n",
       "      <td>0.0</td>\n",
       "      <td>3.0</td>\n",
       "      <td>6.0</td>\n",
       "      <td>0.0</td>\n",
       "      <td>73.0</td>\n",
       "      <td>1.0</td>\n",
       "      <td>1.0</td>\n",
       "      <td>0.0</td>\n",
       "      <td>0.0</td>\n",
       "      <td>0.0</td>\n",
       "      <td>...</td>\n",
       "      <td>0.0</td>\n",
       "      <td>0.0</td>\n",
       "      <td>0.0</td>\n",
       "      <td>0.0</td>\n",
       "      <td>0.0</td>\n",
       "      <td>0.0</td>\n",
       "      <td>0.0</td>\n",
       "      <td>0.0</td>\n",
       "      <td>0.0</td>\n",
       "      <td>1.0</td>\n",
       "    </tr>\n",
       "    <tr>\n",
       "      <th>6</th>\n",
       "      <td>0.0</td>\n",
       "      <td>5.0</td>\n",
       "      <td>4.0</td>\n",
       "      <td>0.0</td>\n",
       "      <td>70.0</td>\n",
       "      <td>1.0</td>\n",
       "      <td>1.0</td>\n",
       "      <td>1.0</td>\n",
       "      <td>0.0</td>\n",
       "      <td>0.0</td>\n",
       "      <td>...</td>\n",
       "      <td>0.0</td>\n",
       "      <td>0.0</td>\n",
       "      <td>0.0</td>\n",
       "      <td>0.0</td>\n",
       "      <td>0.0</td>\n",
       "      <td>0.0</td>\n",
       "      <td>0.0</td>\n",
       "      <td>0.0</td>\n",
       "      <td>1.0</td>\n",
       "      <td>0.0</td>\n",
       "    </tr>\n",
       "  </tbody>\n",
       "</table>\n",
       "<p>5 rows × 51 columns</p>\n",
       "</div>"
      ],
      "text/plain": [
       "   Sex  Education Level  Household Income  Veteran   Age  High Blood Pressure  \\\n",
       "0  0.0              4.0               3.0      0.0  63.0                  1.0   \n",
       "1  0.0              6.0               1.0      0.0  52.0                  0.0   \n",
       "3  0.0              4.0               8.0      0.0  63.0                  1.0   \n",
       "5  0.0              3.0               6.0      0.0  73.0                  1.0   \n",
       "6  0.0              5.0               4.0      0.0  70.0                  1.0   \n",
       "\n",
       "   Takes Blood Pressure Meds  High Cholesterol  Heart Attack  \\\n",
       "0                        1.0               1.0           0.0   \n",
       "1                        0.0               0.0           0.0   \n",
       "3                        1.0               1.0           0.0   \n",
       "5                        1.0               0.0           0.0   \n",
       "6                        1.0               1.0           0.0   \n",
       "\n",
       "   Angina or Cornonary Heart Disease  ...  Uses Special Equipment  \\\n",
       "0                                0.0  ...                     1.0   \n",
       "1                                0.0  ...                     0.0   \n",
       "3                                0.0  ...                     0.0   \n",
       "5                                0.0  ...                     0.0   \n",
       "6                                0.0  ...                     0.0   \n",
       "\n",
       "   Difficulty Concentrating, etc  Difficulty walking on climbing stairs  \\\n",
       "0                            0.0                                    1.0   \n",
       "1                            1.0                                    0.0   \n",
       "3                            1.0                                    1.0   \n",
       "5                            0.0                                    0.0   \n",
       "6                            0.0                                    0.0   \n",
       "\n",
       "   Difficulty Dressing  Difficulty Alone  Black_(Non-Hispanic)  Hispanic  \\\n",
       "0                  1.0               1.0                   0.0       0.0   \n",
       "1                  0.0               0.0                   0.0       0.0   \n",
       "3                  0.0               1.0                   0.0       0.0   \n",
       "5                  0.0               0.0                   0.0       0.0   \n",
       "6                  0.0               0.0                   0.0       0.0   \n",
       "\n",
       "   Miltiracial_(Non-Hispanic)  Other_race_only  White_(Non-Hispanic)  \n",
       "0                         0.0              0.0                   1.0  \n",
       "1                         0.0              0.0                   1.0  \n",
       "3                         0.0              0.0                   1.0  \n",
       "5                         0.0              0.0                   1.0  \n",
       "6                         0.0              1.0                   0.0  \n",
       "\n",
       "[5 rows x 51 columns]"
      ]
     },
     "execution_count": 1883,
     "metadata": {},
     "output_type": "execute_result"
    }
   ],
   "source": [
    "df.head()"
   ]
  },
  {
   "cell_type": "markdown",
   "id": "53775220-0684-4f6c-8522-93f808eee0e9",
   "metadata": {},
   "source": [
    "# Save Data"
   ]
  },
  {
   "cell_type": "code",
   "execution_count": 689,
   "id": "8f58fb5e-0d7c-43c5-98c4-66263e76cf69",
   "metadata": {},
   "outputs": [],
   "source": [
    "df.to_csv(\"CSV_files/Health_data_cleaned.csv\")"
   ]
  }
 ],
 "metadata": {
  "kernelspec": {
   "display_name": "Python 3 (ipykernel)",
   "language": "python",
   "name": "python3"
  },
  "language_info": {
   "codemirror_mode": {
    "name": "ipython",
    "version": 3
   },
   "file_extension": ".py",
   "mimetype": "text/x-python",
   "name": "python",
   "nbconvert_exporter": "python",
   "pygments_lexer": "ipython3",
   "version": "3.11.7"
  }
 },
 "nbformat": 4,
 "nbformat_minor": 5
}
